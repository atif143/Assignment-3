{
 "cells": [
  {
   "cell_type": "code",
   "execution_count": 4,
   "id": "ea1b9549",
   "metadata": {},
   "outputs": [
    {
     "name": "stdout",
     "output_type": "stream",
     "text": [
      "Twinkle, twinkle, little star,\n",
      "   How I wonder what you are!\n",
      "     Up above the world so high,\n",
      "     Like a diamond in the sky.\n",
      "Twinkle, twinkle, little star,\n",
      "   How I wonder what you are\n"
     ]
    }
   ],
   "source": [
    "#Write a Python program to print the following string in a specific format (see the output).\n",
    "print(\"Twinkle, twinkle, little star,\\n   How I wonder what you are!\\n     Up above the world so high,\\n     Like a diamond in the sky.\\nTwinkle, twinkle, little star,\\n   How I wonder what you are\")"
   ]
  },
  {
   "cell_type": "code",
   "execution_count": 12,
   "id": "6d8a88b9",
   "metadata": {},
   "outputs": [
    {
     "name": "stdout",
     "output_type": "stream",
     "text": [
      "3.8.8\n"
     ]
    }
   ],
   "source": [
    "print(platform.python_version())"
   ]
  },
  {
   "cell_type": "code",
   "execution_count": 13,
   "id": "d88b6a86",
   "metadata": {},
   "outputs": [
    {
     "name": "stdout",
     "output_type": "stream",
     "text": [
      "Input the radius of the circle : 2\n",
      "The area of the circle with radius=\n",
      "12.566370614359172\n"
     ]
    }
   ],
   "source": [
    "#Write a Python program which accepts the radius of a circle from the user and compute the area.\n",
    "from math import pi\n",
    "radius =int( input (\"Input the radius of the circle : \"))\n",
    "print (\"The area of the circle with radius=\" )\n",
    "print (pi*radius**2)"
   ]
  },
  {
   "cell_type": "code",
   "execution_count": 15,
   "id": "2a0b1735",
   "metadata": {},
   "outputs": [
    {
     "ename": "SyntaxError",
     "evalue": "invalid syntax (<ipython-input-15-7bd06ac2c4de>, line 2)",
     "output_type": "error",
     "traceback": [
      "\u001b[1;36m  File \u001b[1;32m\"<ipython-input-15-7bd06ac2c4de>\"\u001b[1;36m, line \u001b[1;32m2\u001b[0m\n\u001b[1;33m    First Name=( input (\"Input the First Name : \"))\u001b[0m\n\u001b[1;37m          ^\u001b[0m\n\u001b[1;31mSyntaxError\u001b[0m\u001b[1;31m:\u001b[0m invalid syntax\n"
     ]
    }
   ],
   "source": [
    "#Write a Python program which accepts the user's first and last name and print them in reverse order with a space between them.\n",
    "First Name=( input (\"Input the First Name : \"))\n",
    "Second Name=( input (\"Input the Second Name : \"))\n",
    "Print=(First Name[::-1])"
   ]
  },
  {
   "cell_type": "code",
   "execution_count": 19,
   "id": "f9dd1610",
   "metadata": {},
   "outputs": [
    {
     "name": "stdout",
     "output_type": "stream",
     "text": [
      "input a number1\n",
      "input another number2\n",
      "12\n"
     ]
    }
   ],
   "source": [
    "#Write a python program which takes two inputs from user and print them addition\n",
    "a=(input(\"input a number\"))\n",
    "b=(input(\"input another number\"))\n",
    "c=a+b\n",
    "print(c)"
   ]
  },
  {
   "cell_type": "code",
   "execution_count": 39,
   "id": "106bf764",
   "metadata": {},
   "outputs": [
    {
     "ename": "SyntaxError",
     "evalue": "invalid syntax (<ipython-input-39-07e4b595c217>, line 10)",
     "output_type": "error",
     "traceback": [
      "\u001b[1;36m  File \u001b[1;32m\"<ipython-input-39-07e4b595c217>\"\u001b[1;36m, line \u001b[1;32m10\u001b[0m\n\u001b[1;33m    if Percent < 100 and Percent => 90:\u001b[0m\n\u001b[1;37m                                 ^\u001b[0m\n\u001b[1;31mSyntaxError\u001b[0m\u001b[1;31m:\u001b[0m invalid syntax\n"
     ]
    }
   ],
   "source": [
    "#Write a program which takes 5 inputs from user for different subject’s marks, total it and generate mark sheet using grades ?\n",
    "Math=(input (\"Maths Marks\") )\n",
    "English=(input (\"English Marks\") )\n",
    "Urdu=(input (\"Urdu Marks\") )\n",
    "Isl=(input (\"Isl Marks\"))\n",
    "Phy=(input (\"Phy Marks\") )\n",
    "Total=500\n",
    "subtotal=int(Math+English+Urdu+Isl+Phy)\n",
    "Percent=(subtotal)*100/Total;\n",
    "if Percent < 100 and Percent >= 90:\n",
    "    print (\"Grade A+\");\n",
    "elif Percent < 90 and Percent >= 80:\n",
    "    print (\"Grade A\");\n",
    "elif Percent < 80 and Percent >= 70:\n",
    "    print (\"Grade B\");\n",
    "elif Percent< 70 and Percent >= 60:\n",
    "    print (\"Grade C\");\n",
    "elif Percent < 60 and Percent >=50:\n",
    "    print (\"Grade D\");\n",
    "elif Percent < 50 and Percent >= 40:\n",
    "    print (\"Grade E\");\n",
    "elif Percent < 40 and Percent >= 33:\n",
    "    print (\"Grade F\");\n",
    "elif Percent >100:\n",
    "    print (\"Wrong Entry\");\n",
    "else:\n",
    "    print (\"Fail\");"
   ]
  },
  {
   "cell_type": "code",
   "execution_count": 41,
   "id": "fd591dab",
   "metadata": {},
   "outputs": [
    {
     "name": "stdout",
     "output_type": "stream",
     "text": [
      "Enter a number: 2\n",
      "This is an even number.\n"
     ]
    }
   ],
   "source": [
    "#Write a program which take input from user and identify that the given number is even or odd?\n",
    "num = int(input(\"Enter a number: \"))\n",
    "mod = num % 2\n",
    "if mod > 0:\n",
    "    print(\"This is an odd number.\")\n",
    "else:\n",
    "    print(\"This is an even number.\")"
   ]
  },
  {
   "cell_type": "code",
   "execution_count": 42,
   "id": "ad4bd032",
   "metadata": {},
   "outputs": [
    {
     "name": "stdout",
     "output_type": "stream",
     "text": [
      "Number of items in the list =  5\n"
     ]
    }
   ],
   "source": [
    "#Write a program which print the length of the list?\n",
    "List= [1, 2, 3,4,5]\n",
    "print (\"Number of items in the list = \", len(List))"
   ]
  },
  {
   "cell_type": "code",
   "execution_count": 43,
   "id": "671e83e0",
   "metadata": {},
   "outputs": [
    {
     "name": "stdout",
     "output_type": "stream",
     "text": [
      "Sum of list is =  15\n"
     ]
    }
   ],
   "source": [
    "#10.Write a Python program to sum all the numeric items in a list?\n",
    "List= [1, 2, 3,4,5]\n",
    "print (\"Sum of list is = \", sum(List))"
   ]
  },
  {
   "cell_type": "code",
   "execution_count": 48,
   "id": "d2b49f22",
   "metadata": {},
   "outputs": [
    {
     "name": "stdout",
     "output_type": "stream",
     "text": [
      "1\n",
      "1\n",
      "2\n",
      "3\n"
     ]
    }
   ],
   "source": [
    "a = [1, 1, 2, 3, 5, 8, 13, 21, 34, 55, 89]\n",
    "for i in a:\n",
    "    if i < 5:\n",
    "        print(i)"
   ]
  },
  {
   "cell_type": "code",
   "execution_count": null,
   "id": "13a8faf2",
   "metadata": {},
   "outputs": [],
   "source": []
  }
 ],
 "metadata": {
  "kernelspec": {
   "display_name": "Python 3",
   "language": "python",
   "name": "python3"
  },
  "language_info": {
   "codemirror_mode": {
    "name": "ipython",
    "version": 3
   },
   "file_extension": ".py",
   "mimetype": "text/x-python",
   "name": "python",
   "nbconvert_exporter": "python",
   "pygments_lexer": "ipython3",
   "version": "3.8.8"
  }
 },
 "nbformat": 4,
 "nbformat_minor": 5
}
